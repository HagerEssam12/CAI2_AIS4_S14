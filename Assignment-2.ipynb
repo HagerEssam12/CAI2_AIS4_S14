{
 "cells": [
  {
   "cell_type": "markdown",
   "metadata": {},
   "source": [
    "## Python Task 2"
   ]
  },
  {
   "cell_type": "markdown",
   "metadata": {},
   "source": [
    "### Question: Extract and Analyze List Slices\n",
    "\n",
    "**Description:** Given a list of tuples, where each tuple contains information about a product (product name, price, and quantity), write a program that extracts the product names and prints the names of products with prices above a certain threshold using list slicing and if statements. \n",
    "\n",
    "The threshold should be set within your code."
   ]
  },
  {
   "cell_type": "code",
   "execution_count": null,
   "metadata": {},
   "outputs": [],
   "source": [
    "'''\n",
    "# Example Input:\n",
    "products = [\n",
    "    (\"Laptop\", 1200, 5),\n",
    "    (\"Smartphone\", 700, 10),\n",
    "    (\"Headphones\", 150, 15),\n",
    "    (\"Monitor\", 300, 7)\n",
    "]\n",
    "threshold = 500\n",
    "\n",
    "# Expected Output:\n",
    "Products above the price threshold: ['Laptop', 'Smartphone']\n",
    "'''"
   ]
  },
  {
   "cell_type": "code",
   "execution_count": 1,
   "metadata": {},
   "outputs": [
    {
     "name": "stdout",
     "output_type": "stream",
     "text": [
      "Products with prices above 500 are:\n",
      "Laptop\n",
      "Smartphone\n"
     ]
    }
   ],
   "source": [
    "products = [\n",
    "     (\"Laptop\", 1200, 5),\n",
    "    (\"Smartphone\", 700, 10),\n",
    "    (\"Headphones\", 150, 15),\n",
    "    (\"Monitor\", 300, 7)\n",
    "]\n",
    "\n",
    "price_threshold = 500\n",
    "\n",
    "product_names_and_prices = [(product[0], product[1]) for product in products]\n",
    "\n",
    "filtered_products = [name for name, price in product_names_and_prices if price > price_threshold]\n",
    "\n",
    "# Output the results\n",
    "print(\"Products with prices above\", price_threshold, \"are:\")\n",
    "for product in filtered_products:\n",
    "    print(product)\n"
   ]
  },
  {
   "cell_type": "markdown",
   "metadata": {},
   "source": [
    "### Question: Update Dictionary with Tuple Data\n",
    "Description: You have a dictionary where keys are employee IDs and values are their current salaries. You also have a list of tuples where each tuple contains an employee ID and a percentage increment to their salary. Write code to update the salaries in the dictionary based on the increment provided in the list of tuples. \n",
    "\n",
    "Use if statements to ensure that only existing employees in the dictionary are updated."
   ]
  },
  {
   "cell_type": "code",
   "execution_count": null,
   "metadata": {},
   "outputs": [],
   "source": [
    "'''\n",
    "# Example Input:\n",
    "salaries = {\n",
    "    101: 50000,\n",
    "    102: 60000,\n",
    "    103: 55000\n",
    "}\n",
    "increments = [\n",
    "    (101, 10),  # 10% increment\n",
    "    (104, 5),   # 5% increment, not in salaries\n",
    "    (102, 15)\n",
    "]\n",
    "\n",
    "# Expected Output:\n",
    "Updated salaries: {101: 55000, 102: 69000, 103: 55000}\n",
    "'''"
   ]
  },
  {
   "cell_type": "code",
   "execution_count": 4,
   "metadata": {},
   "outputs": [
    {
     "name": "stdout",
     "output_type": "stream",
     "text": [
      "Updated Employee Salaries:\n",
      "Employee ID 101: $55000.00\n",
      "Employee ID 102: $63000.00\n",
      "Employee ID 103: $55000.00\n",
      "Employee ID 104: $70000.00\n"
     ]
    }
   ],
   "source": [
    "employee_salaries = {\n",
    "    101: 50000,\n",
    "    102: 60000,\n",
    "    103: 55000,\n",
    "    104: 70000\n",
    "}\n",
    "\n",
    "salary_increments = [\n",
    "    (101, 10),   # 10% increment for employee 101\n",
    "    (102, 5),    # 5% increment for employee 102\n",
    "    (105, 8)     # 8% increment for employee 105 (non-existing employee)\n",
    "]\n",
    "\n",
    "for emp_id, increment in salary_increments:\n",
    "    if emp_id in employee_salaries:\n",
    "        employee_salaries[emp_id] += employee_salaries[emp_id] * (increment / 100)\n",
    "\n",
    "print(\"Updated Employee Salaries:\")\n",
    "for emp_id, salary in employee_salaries.items():\n",
    "    print(f\"Employee ID {emp_id}: ${salary:.2f}\")\n"
   ]
  }
 ],
 "metadata": {
  "kernelspec": {
   "display_name": "Python 3",
   "language": "python",
   "name": "python3"
  },
  "language_info": {
   "codemirror_mode": {
    "name": "ipython",
    "version": 3
   },
   "file_extension": ".py",
   "mimetype": "text/x-python",
   "name": "python",
   "nbconvert_exporter": "python",
   "pygments_lexer": "ipython3",
   "version": "3.12.7"
  }
 },
 "nbformat": 4,
 "nbformat_minor": 2
}
