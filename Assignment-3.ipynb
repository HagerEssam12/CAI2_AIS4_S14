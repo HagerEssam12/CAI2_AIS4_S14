{
 "cells": [
  {
   "cell_type": "markdown",
   "metadata": {},
   "source": [
    "## Python Task 3"
   ]
  },
  {
   "cell_type": "markdown",
   "metadata": {},
   "source": [
    "### Question: Count Vowels in a String\n",
    "\n",
    "**Description:** Write a function named count_vowels that takes a string as an argument and returns the count of vowels (a, e, i, o, u) in the string. \n",
    "\n",
    "The function should be case-insensitive, counting both uppercase and lowercase vowels.\n"
   ]
  },
  {
   "cell_type": "code",
   "execution_count": null,
   "metadata": {},
   "outputs": [],
   "source": [
    "'''\n",
    "# Example Input:\n",
    "text = \"Hello World\"\n",
    "# Expected Output:\n",
    "3\n",
    "'''\n"
   ]
  },
  {
   "cell_type": "code",
   "execution_count": 1,
   "metadata": {},
   "outputs": [
    {
     "name": "stdout",
     "output_type": "stream",
     "text": [
      "Number of vowels in 'Hello World!': 3\n"
     ]
    }
   ],
   "source": [
    "def count_vowels(input_string):\n",
    "    vowels = \"aeiou\"\n",
    "    \n",
    "    input_string = input_string.lower()\n",
    "    \n",
    "    vowel_count = sum(1 for char in input_string if char in vowels)\n",
    "    \n",
    "    return vowel_count\n",
    "\n",
    "# Example Input\n",
    "text = \"Hello World!\"\n",
    "result = count_vowels(text)\n",
    "print(f\"Number of vowels in '{text}':\", result)\n"
   ]
  },
  {
   "cell_type": "markdown",
   "metadata": {},
   "source": [
    "### Question: Find the Maximum Value in a List Using a Function\n",
    "Description: Write a function named find_max that takes a list of integers as an argument and returns the maximum value in the list. \n",
    "\n",
    "Do not use Python’s built-in max() function. The function should handle cases where the list is empty by returning None.\n"
   ]
  },
  {
   "cell_type": "code",
   "execution_count": null,
   "metadata": {},
   "outputs": [],
   "source": [
    "'''\n",
    "# Example Input:\n",
    "numbers = [3, 5, 2, 8, 1]\n",
    "# Expected Output:\n",
    "8\n",
    "'''"
   ]
  },
  {
   "cell_type": "code",
   "execution_count": 2,
   "metadata": {},
   "outputs": [
    {
     "name": "stdout",
     "output_type": "stream",
     "text": [
      "Maximum value in the list: 8\n",
      "Maximum value in an empty list: None\n"
     ]
    }
   ],
   "source": [
    "def find_max(numbers):\n",
    "    if not numbers:\n",
    "        return None\n",
    "\n",
    "    max_value = numbers[0]\n",
    "\n",
    "    for num in numbers:\n",
    "        if num > max_value:\n",
    "            max_value = num\n",
    "\n",
    "    return max_value\n",
    "\n",
    "# Example Input:\n",
    "nums = [3, 7, 2, 8, 1]\n",
    "empty_list = []\n",
    "print(\"Maximum value in the list:\", find_max(nums))  \n",
    "print(\"Maximum value in an empty list:\", find_max(empty_list))  \n"
   ]
  }
 ],
 "metadata": {
  "kernelspec": {
   "display_name": "Python 3",
   "language": "python",
   "name": "python3"
  },
  "language_info": {
   "codemirror_mode": {
    "name": "ipython",
    "version": 3
   },
   "file_extension": ".py",
   "mimetype": "text/x-python",
   "name": "python",
   "nbconvert_exporter": "python",
   "pygments_lexer": "ipython3",
   "version": "3.12.7"
  }
 },
 "nbformat": 4,
 "nbformat_minor": 2
}
